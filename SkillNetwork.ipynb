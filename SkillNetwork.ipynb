{
    "cells": [
        {
            "metadata": {
                "collapsed": true
            },
            "cell_type": "markdown",
            "source": "# My Jupyter Notebook on IBM Watson Studio"
        },
        {
            "metadata": {},
            "cell_type": "markdown",
            "source": "## P.V.Umesh Chandra Reddy"
        },
        {
            "metadata": {},
            "cell_type": "markdown",
            "source": "### 100% Human"
        },
        {
            "metadata": {
                "slideshow": {
                    "slide_type": "fragment"
                }
            },
            "cell_type": "markdown",
            "source": "##### I am intrested in data science because i love to gain the insight of data"
        },
        {
            "metadata": {},
            "cell_type": "markdown",
            "source": "## This following code tests the Gauss formula"
        },
        {
            "metadata": {},
            "cell_type": "code",
            "source": "def gauss(n):\n    return(n*(n+1))/2\ngauss(100) == sum(range(101))",
            "execution_count": 3,
            "outputs": [
                {
                    "output_type": "execute_result",
                    "execution_count": 3,
                    "data": {
                        "text/plain": "True"
                    },
                    "metadata": {}
                }
            ]
        },
        {
            "metadata": {},
            "cell_type": "code",
            "source": "",
            "execution_count": null,
            "outputs": []
        }
    ],
    "metadata": {
        "kernelspec": {
            "name": "python3",
            "display_name": "Python 3.7",
            "language": "python"
        },
        "language_info": {
            "name": "python",
            "version": "3.7.10",
            "mimetype": "text/x-python",
            "codemirror_mode": {
                "name": "ipython",
                "version": 3
            },
            "pygments_lexer": "ipython3",
            "nbconvert_exporter": "python",
            "file_extension": ".py"
        }
    },
    "nbformat": 4,
    "nbformat_minor": 1
}